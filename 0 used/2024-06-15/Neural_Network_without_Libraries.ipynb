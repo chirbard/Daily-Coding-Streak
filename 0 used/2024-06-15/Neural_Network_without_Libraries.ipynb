{
  "nbformat": 4,
  "nbformat_minor": 0,
  "metadata": {
    "colab": {
      "provenance": []
    },
    "kernelspec": {
      "name": "python3",
      "display_name": "Python 3"
    },
    "language_info": {
      "name": "python"
    }
  },
  "cells": [
    {
      "cell_type": "markdown",
      "source": [
        "# Binary Classification Nerual Network without libraries"
      ],
      "metadata": {
        "id": "XFNr8BnFITRt"
      }
    },
    {
      "cell_type": "markdown",
      "source": [
        "## Import Libraries"
      ],
      "metadata": {
        "id": "OIYLATTLJHU0"
      }
    },
    {
      "cell_type": "code",
      "execution_count": 1,
      "metadata": {
        "id": "nQ4jfLsXINkI"
      },
      "outputs": [],
      "source": [
        "import numpy as np"
      ]
    },
    {
      "cell_type": "markdown",
      "source": [
        "## Define Data"
      ],
      "metadata": {
        "id": "0Jh436a0JI39"
      }
    },
    {
      "cell_type": "code",
      "source": [
        "# Data\n",
        "X = [[0,1],[0,0],[-1,0],[-1,1],[-2,0],[-2,1],[2,-1],[1,-2]]\n",
        "\n",
        "# Labels - negative sums are 0, positive sums are 1\n",
        "Y = [1, 1, 0, 1, 0, 0, 1, 0]\n",
        "\n",
        "# What are the different labels\n",
        "labels = [0, 1]"
      ],
      "metadata": {
        "id": "guz-pFfDIdLL"
      },
      "execution_count": 2,
      "outputs": []
    },
    {
      "cell_type": "markdown",
      "source": [
        "## Create A Neural Network"
      ],
      "metadata": {
        "id": "ANg8RzKvJLXd"
      }
    },
    {
      "cell_type": "code",
      "source": [
        "def create_neural_net(layer_array, input_dims):\n",
        "  weights = []\n",
        "  biases = []\n",
        "  activations = []\n",
        "\n",
        "  num_of_layers = len(layer_array)\n",
        "  for layer_index in range(num_of_layers):  # For each layer.\n",
        "    number_of_current_layer_nodes = layer_array[layer_index][0]\n",
        "    weights_of_layer = []\n",
        "    biases_of_layer = []\n",
        "\n",
        "    # The following code is needed to know how many connections\n",
        "    # each node has to the last layer.\n",
        "    if layer_index == 0:  # First layer.\n",
        "      number_of_last_layer_nodes = input_dims\n",
        "    else:\n",
        "      number_of_last_layer_nodes = layer_array[layer_index-1][0]\n",
        "\n",
        "    # For each node on layer.\n",
        "    for node_index in range(0, number_of_current_layer_nodes):\n",
        "      weights_of_node = []\n",
        "      for weight_index in range(0, number_of_last_layer_nodes):\n",
        "        weights_of_node.append(1)  # Set initial weight to 1.\n",
        "      weights_of_layer.append(weights_of_node)\n",
        "      biases_of_layer.append(0)  # Set initial bias of layer to 0.\n",
        "\n",
        "    weights.append(weights_of_layer)\n",
        "    biases.append(biases_of_layer)\n",
        "    activations.append(layer_array[layer_index][1])\n",
        "  return [weights, biases, activations]\n"
      ],
      "metadata": {
        "id": "J961z1cwI4Z9"
      },
      "execution_count": 5,
      "outputs": []
    },
    {
      "cell_type": "markdown",
      "source": [
        "## Test of create_neural_net() function"
      ],
      "metadata": {
        "id": "TuDGml54JNv0"
      }
    },
    {
      "cell_type": "code",
      "source": [
        "layer_array = [[len(labels), 'sigmoid']]\n",
        "input_dims = 2\n",
        "neural_net = create_neural_net(layer_array, input_dims)\n",
        "\n",
        "print(' weights:',neural_net[0],'\\n\\n biases:',neural_net[1],'\\n\\n activations:', neural_net[2])"
      ],
      "metadata": {
        "colab": {
          "base_uri": "https://localhost:8080/"
        },
        "id": "qzcLo781JBO9",
        "outputId": "4922ed56-e755-4fa2-a612-e48611436e90"
      },
      "execution_count": 6,
      "outputs": [
        {
          "output_type": "stream",
          "name": "stdout",
          "text": [
            " weights: [[[1, 1], [1, 1]]] \n",
            "\n",
            " biases: [[0, 0]] \n",
            "\n",
            " activations: ['sigmoid']\n"
          ]
        }
      ]
    },
    {
      "cell_type": "markdown",
      "source": [
        "## Activation Functions"
      ],
      "metadata": {
        "id": "YmGbw3XdJP00"
      }
    },
    {
      "cell_type": "code",
      "source": [
        "def sigmoid(x):\n",
        "  return 1 / (1 + np.exp(-x))\n",
        "\n",
        "def sigmoid_deriv(x):\n",
        "  return x * (1 - x)\n",
        "\n",
        "def relu(x):\n",
        "  if x < 0:\n",
        "    return 0\n",
        "  return x"
      ],
      "metadata": {
        "id": "1mlzDQ1CJFCL"
      },
      "execution_count": 7,
      "outputs": []
    },
    {
      "cell_type": "markdown",
      "source": [
        "## Predict Using The Neural Network"
      ],
      "metadata": {
        "id": "JyX6TdbTJYbD"
      }
    },
    {
      "cell_type": "code",
      "source": [
        "def predict_ratio(data, neural_net):\n",
        "  weights = neural_net[0]\n",
        "  biases = neural_net[1]\n",
        "  activations = neural_net[2]\n",
        "\n",
        "  number_of_layers = len(weights)\n",
        "\n",
        "  for layer_index in range(0, number_of_layers):\n",
        "    data = np.dot(weights[layer_index], data)\n",
        "    for t in range(len(data)):\n",
        "      data[t] += biases[layer_index][t]\n",
        "    if activations[layer_index] == 'sigmoid':\n",
        "      data = sigmoid(data)\n",
        "    elif activations[layer_index] == 'relu':\n",
        "      data = relu(data)\n",
        "    else:\n",
        "      # If not identified, do it with sigmoid\n",
        "      data = sigmoid(data)\n",
        "      print('activation function', activations[layer_index], 'cannot be found. Sigmoid is used')\n",
        "  return data\n",
        "\n",
        "def predict(data, neural_net):\n",
        "  data = predict_ratio(data, neural_net)\n",
        "\n",
        "  class_num = len(data)\n",
        "\n",
        "  highest_class = None\n",
        "  highest_class_probability = -1\n",
        "\n",
        "  for i in range(0, class_num):\n",
        "    if highest_class == None:\n",
        "      highest_class = i\n",
        "      highest_class_probability = data[i]\n",
        "    elif data[i] > highest_class_probability:\n",
        "      highest_class = i\n",
        "      highest_class_probability = data[i]\n",
        "\n",
        "  return highest_class, highest_class_probability"
      ],
      "metadata": {
        "id": "UiINMwGyJYM9"
      },
      "execution_count": null,
      "outputs": []
    },
    {
      "cell_type": "code",
      "source": [
        "# Of course, this prediction is absulutly wrong because we haven't trained the network yet\n",
        "predict(X[1], neural_net)"
      ],
      "metadata": {
        "colab": {
          "base_uri": "https://localhost:8080/"
        },
        "id": "UsUUArJmJjIo",
        "outputId": "53c98d66-d991-4760-9f8a-9d8d2db92a6a"
      },
      "execution_count": null,
      "outputs": [
        {
          "output_type": "execute_result",
          "data": {
            "text/plain": [
              "(0, 0.5)"
            ]
          },
          "metadata": {},
          "execution_count": 71
        }
      ]
    },
    {
      "cell_type": "markdown",
      "source": [
        "## Train Network"
      ],
      "metadata": {
        "id": "U7kI-SS4J3QM"
      }
    },
    {
      "cell_type": "code",
      "source": [
        "def train_network(X, Y, labels, neural_net, epochs=1000):\n",
        "  for epoch in range(0, epochs):\n",
        "    for d in range(0, len(X)):\n",
        "      prediction = predict_ratio(X[d], neural_net)\n",
        "\n",
        "      # Calculate total error per label\n",
        "      true_prediction = []\n",
        "      for i in range(0, len(labels)):\n",
        "        true_prediction.append(0)\n",
        "      true_prediction[labels.index(Y[d])] = 1\n",
        "\n",
        "      errors = []\n",
        "      for t in range(len(prediction)):\n",
        "        errors.append(true_prediction[t] - prediction[t])\n",
        "      adjust_deriv = errors * sigmoid_deriv(prediction)\n",
        "\n",
        "      for k in range(0, len(adjust_deriv)):\n",
        "        adjustment = np.dot(X[d], adjust_deriv[k])\n",
        "        neural_net[0][0][k] += adjustment\n",
        "  return neural_net"
      ],
      "metadata": {
        "id": "KlYcxq53J7N8"
      },
      "execution_count": null,
      "outputs": []
    },
    {
      "cell_type": "code",
      "source": [
        "neural_net = train_network(X, Y, labels, neural_net, epochs=1000)"
      ],
      "metadata": {
        "id": "9exo2lDAJ9H8"
      },
      "execution_count": null,
      "outputs": []
    },
    {
      "cell_type": "markdown",
      "source": [
        "## Results"
      ],
      "metadata": {
        "id": "6LDgIANGKAoI"
      }
    },
    {
      "cell_type": "code",
      "source": [
        "for i in range(len(X)):\n",
        "  print(predict(X[i], neural_net))"
      ],
      "metadata": {
        "colab": {
          "base_uri": "https://localhost:8080/"
        },
        "id": "vkHFALp4J_kU",
        "outputId": "284a9575-a9ed-4e8d-b356-ed0e1f7991be"
      },
      "execution_count": null,
      "outputs": [
        {
          "output_type": "stream",
          "name": "stdout",
          "text": [
            "(1, 0.9997849586606973)\n",
            "(0, 0.5)\n",
            "(0, 0.9970910313449949)\n",
            "(1, 0.9309092649138917)\n",
            "(0, 0.9999914885261931)\n",
            "(0, 0.9623035177308626)\n",
            "(1, 0.9624201415869468)\n",
            "(0, 0.9999838181502512)\n"
          ]
        }
      ]
    },
    {
      "cell_type": "code",
      "source": [
        "predict([0,-1], neural_net)"
      ],
      "metadata": {
        "colab": {
          "base_uri": "https://localhost:8080/"
        },
        "id": "zHiDrmxyLpcd",
        "outputId": "1f4e7ff3-d92d-4470-e619-bf413355edb1"
      },
      "execution_count": null,
      "outputs": [
        {
          "output_type": "execute_result",
          "data": {
            "text/plain": [
              "(0, 0.9997827672206825)"
            ]
          },
          "metadata": {},
          "execution_count": 77
        }
      ]
    }
  ]
}